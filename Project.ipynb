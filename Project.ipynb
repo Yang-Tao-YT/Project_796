{
 "cells": [
  {
   "cell_type": "code",
   "execution_count": 1,
   "metadata": {},
   "outputs": [
    {
     "name": "stderr",
     "output_type": "stream",
     "text": [
      "Using TensorFlow backend.\n"
     ]
    }
   ],
   "source": [
    "import numpy as np\n",
    "import pandas as pd\n",
    "import matplotlib.pyplot as plt\n",
    "from keras.models import load_model\n",
    "from keras.layers import Input, Dense\n",
    "from keras.models import Model\n",
    "from keras import regularizers\n",
    "from keras.models import load_model\n",
    "from sklearn import preprocessing \n",
    "from sklearn.preprocessing import StandardScaler  \n",
    "import copy\n",
    "import yfinance\n",
    "from collections import defaultdict"
   ]
  },
  {
   "cell_type": "markdown",
   "metadata": {},
   "source": [
    "### Preprocessing data"
   ]
  },
  {
   "cell_type": "code",
   "execution_count": 2,
   "metadata": {},
   "outputs": [],
   "source": [
    "# import os\n",
    "# os.environ['CUDA_VISIBLE_DEVICES'] = '-1'"
   ]
  },
  {
   "cell_type": "code",
   "execution_count": 3,
   "metadata": {},
   "outputs": [],
   "source": [
    "stock_lp = pd.read_csv('C:/Users/Zackt/Documents/SP_500_clean.csv'  , index_col = 0)\n",
    "pct =  pd.read_csv('C:/Users/Zackt/Documents/SP_500_pct_change.csv'  , index_col = 0)\n",
    "net =  pd.read_csv('C:/Users/Zackt/Documents/SP_500_net_change.csv'  , index_col = 0)\n",
    "spy_full = pd.read_csv('C:/Users/Zackt/Documents/SP_500_index.csv', index_col=0).astype('float32')\n",
    "spy_net = pd.read_csv('C:/Users/Zackt/Documents/SP_500_index_net_change.csv', index_col=0).astype('float32')\n",
    "spy_percentage = pd.read_csv('C:/Users/Zackt/Documents/SP_500_index_pct_change.csv', index_col=0).astype('float32')\n",
    "\n",
    "days = 400 ##  ???\n",
    "valid = 400 ##  ???\n",
    "\n",
    "stock = defaultdict(defaultdict)\n",
    "spy = defaultdict(defaultdict)\n",
    "\n",
    "stock['calibrate']['lp'] = stock_lp.iloc[0:days, :]\n",
    "stock['validate']['lp'] = stock_lp.iloc[days:days + valid, :]\n",
    "\n",
    "\n",
    "stock['calibrate']['percentage'] = pct.iloc[:days,:] *100\n",
    "stock['validate']['percentage'] = pct.iloc[days:days+valid,:] *100\n",
    "\n",
    "\n",
    "stock['calibrate']['net'] = net.iloc[0:days,:]\n",
    "stock['validate']['net'] = net.iloc[days:days+valid,:]\n",
    "\n",
    "\n",
    "\n",
    "spy['calibrate']['lp'] = spy_full[:days]\n",
    "spy['validate']['lp'] = spy_full[days:days+valid]\n",
    "\n",
    "\n",
    "spy['calibrate']['net'] = spy_net[:days]\n",
    "spy['validate']['net'] = spy_net[days:days+valid]\n",
    "\n",
    "\n",
    "spy['calibrate']['percentage'] = spy_percentage[:days] * 100\n",
    "spy['validate']['percentage'] = spy_percentage[days:days+valid] *100"
   ]
  },
  {
   "cell_type": "code",
   "execution_count": 4,
   "metadata": {},
   "outputs": [
    {
     "data": {
      "text/plain": [
       "\"\\n\\nspy['calibrate']['percentage'] \\nstock = defaultdict(defaultdict)\\n\\nstock_lp = pd.read_csv('D:/jupyter/Deep-Portfolio-Theory/data/last_price.csv', index_col=0).dropna(axis=1, how='any').astype('float32')\\nstock['calibrate']['lp'] = stock_lp.iloc[0:104, :]\\nstock['validate']['lp'] = stock_lp.iloc[104:, :]\\n\\nstock_net = pd.read_csv('D:/jupyter/Deep-Portfolio-Theory/data/net_change.csv', index_col=0).dropna(axis=1, how='any').astype('float32')\\nstock['calibrate']['net'] = stock_net.iloc[0:104, :]\\nstock['validate']['net'] = stock_net.iloc[104:, :]\\n\\nstock_percentage = pd.read_csv('D:/jupyter/Deep-Portfolio-Theory/data/percentage_change.csv', index_col=0).dropna(axis=1, how='any').astype('float32')\\nstock['calibrate']['percentage'] = stock_percentage.iloc[0:104, :]\\nstock['validate']['percentage'] = stock_percentage.iloc[104:, :]\\n\\nspy = defaultdict(defaultdict)\\nspy_full = pd.read_csv('D:/jupyter/Deep-Portfolio-Theory/data/ibb.csv', index_col=0).astype('float32')\\n\\nspy_lp = spy_full.iloc[:,0] # Series\\nspy['calibrate']['lp'] = spy_lp[0:104]\\nspy['validate']['lp'] = spy_lp[104:]\\n\\nspy_net = spy_full.iloc[:,1] # Series\\nspy['calibrate']['net'] = spy_net[0:104]\\nspy['validate']['net'] = spy_net[104:]\\n\\nspy_percentage = spy_full.iloc[:,2] # Series\\nspy['calibrate']['percentage'] = spy_percentage[0:104]\\nspy['validate']['percentage'] = spy_percentage[104:]\\n\""
      ]
     },
     "execution_count": 4,
     "metadata": {},
     "output_type": "execute_result"
    }
   ],
   "source": [
    "'''\n",
    "\n",
    "spy['calibrate']['percentage'] \n",
    "stock = defaultdict(defaultdict)\n",
    "\n",
    "stock_lp = pd.read_csv('D:/jupyter/Deep-Portfolio-Theory/data/last_price.csv', index_col=0).dropna(axis=1, how='any').astype('float32')\n",
    "stock['calibrate']['lp'] = stock_lp.iloc[0:104, :]\n",
    "stock['validate']['lp'] = stock_lp.iloc[104:, :]\n",
    "\n",
    "stock_net = pd.read_csv('D:/jupyter/Deep-Portfolio-Theory/data/net_change.csv', index_col=0).dropna(axis=1, how='any').astype('float32')\n",
    "stock['calibrate']['net'] = stock_net.iloc[0:104, :]\n",
    "stock['validate']['net'] = stock_net.iloc[104:, :]\n",
    "\n",
    "stock_percentage = pd.read_csv('D:/jupyter/Deep-Portfolio-Theory/data/percentage_change.csv', index_col=0).dropna(axis=1, how='any').astype('float32')\n",
    "stock['calibrate']['percentage'] = stock_percentage.iloc[0:104, :]\n",
    "stock['validate']['percentage'] = stock_percentage.iloc[104:, :]\n",
    "\n",
    "spy = defaultdict(defaultdict)\n",
    "spy_full = pd.read_csv('D:/jupyter/Deep-Portfolio-Theory/data/ibb.csv', index_col=0).astype('float32')\n",
    "\n",
    "spy_lp = spy_full.iloc[:,0] # Series\n",
    "spy['calibrate']['lp'] = spy_lp[0:104]\n",
    "spy['validate']['lp'] = spy_lp[104:]\n",
    "\n",
    "spy_net = spy_full.iloc[:,1] # Series\n",
    "spy['calibrate']['net'] = spy_net[0:104]\n",
    "spy['validate']['net'] = spy_net[104:]\n",
    "\n",
    "spy_percentage = spy_full.iloc[:,2] # Series\n",
    "spy['calibrate']['percentage'] = spy_percentage[0:104]\n",
    "spy['validate']['percentage'] = spy_percentage[104:]\n",
    "'''"
   ]
  },
  {
   "cell_type": "code",
   "execution_count": null,
   "metadata": {},
   "outputs": [],
   "source": []
  },
  {
   "cell_type": "markdown",
   "metadata": {},
   "source": [
    "# Construct model\n"
   ]
  },
  {
   "cell_type": "code",
   "execution_count": 5,
   "metadata": {},
   "outputs": [],
   "source": [
    "def inital_model(inputs,optimizer = 'sgd',loss='mean_squared_error'):\n",
    "    \n",
    "    ######### connecting all layers ????\n",
    "    # input layer\n",
    "    input_img = Input(shape=(inputs, ))\n",
    "    # encoding layer ( we need to figure out how many layers we need and how many nodes for each layer)\n",
    "    encoded = Dense(128, activation='relu', kernel_regularizer=regularizers.l2(0.01))(input_img)#1\n",
    "    # do we need all these layer?\n",
    "    encoded = Dense(64, activation='relu',kernel_regularizer=regularizers.l2(0.01))(encoded)#3\n",
    "    encoded = Dense(32,activation='relu',kernel_regularizer=regularizers.l2(0.01))(encoded)#3\n",
    "    decoded = Dense(64, activation='relu',kernel_regularizer=regularizers.l2(0.01))(encoded)#4\n",
    "    decoded = Dense(128, activation='relu',kernel_regularizer=regularizers.l2(0.01))(decoded)#5\n",
    "    decoded = Dense(inputs, activation= 'linear', kernel_regularizer=regularizers.l2(0.01))(decoded) #6\n",
    "\n",
    "    ######### construct and compile \n",
    "    autoencoder = Model(input_img, decoded)\n",
    "    # we need to figure out what is the best loss function and optimizer function.\n",
    "    # so far sgd is the most popular one on the market\n",
    "    autoencoder.compile(optimizer=optimizer, loss=loss)\n",
    "    return autoencoder\n"
   ]
  },
  {
   "cell_type": "code",
   "execution_count": 6,
   "metadata": {},
   "outputs": [
    {
     "data": {
      "text/plain": [
       "<keras.callbacks.callbacks.History at 0x2599c156b48>"
      ]
     },
     "execution_count": 6,
     "metadata": {},
     "output_type": "execute_result"
    }
   ],
   "source": [
    "dimension_of_input  = len(stock['calibrate']['lp'].columns) # number of stock\n",
    "autoencoder = inital_model(dimension_of_input)\n",
    "# train model\n",
    "# we use net difference to train model\n",
    "data = stock['calibrate']['net']\n",
    "#nomalization standardlization\n",
    "autoencoder.fit(data, data, shuffle=False, epochs=500, batch_size = 10 , verbose = 0)"
   ]
  },
  {
   "cell_type": "code",
   "execution_count": 7,
   "metadata": {},
   "outputs": [],
   "source": [
    "# autoencoder.save('D:/jupyter/Project_796/Models/com_autoencoder.h5')"
   ]
  },
  {
   "cell_type": "markdown",
   "metadata": {
    "scrolled": false
   },
   "source": [
    "### Predict and Pick the stocks"
   ]
  },
  {
   "cell_type": "code",
   "execution_count": 8,
   "metadata": {},
   "outputs": [
    {
     "data": {
      "text/html": [
       "<div>\n",
       "<style scoped>\n",
       "    .dataframe tbody tr th:only-of-type {\n",
       "        vertical-align: middle;\n",
       "    }\n",
       "\n",
       "    .dataframe tbody tr th {\n",
       "        vertical-align: top;\n",
       "    }\n",
       "\n",
       "    .dataframe thead th {\n",
       "        text-align: right;\n",
       "    }\n",
       "</style>\n",
       "<table border=\"1\" class=\"dataframe\">\n",
       "  <thead>\n",
       "    <tr style=\"text-align: right;\">\n",
       "      <th></th>\n",
       "      <th>communal</th>\n",
       "      <th>index</th>\n",
       "    </tr>\n",
       "  </thead>\n",
       "  <tbody>\n",
       "    <tr>\n",
       "      <th>NVR</th>\n",
       "      <td>182.471879</td>\n",
       "      <td>NVR</td>\n",
       "    </tr>\n",
       "    <tr>\n",
       "      <th>BKNG</th>\n",
       "      <td>242.181175</td>\n",
       "      <td>BKNG</td>\n",
       "    </tr>\n",
       "    <tr>\n",
       "      <th>GOOG</th>\n",
       "      <td>614.579878</td>\n",
       "      <td>GOOG</td>\n",
       "    </tr>\n",
       "    <tr>\n",
       "      <th>AMGN</th>\n",
       "      <td>1042.087429</td>\n",
       "      <td>AMGN</td>\n",
       "    </tr>\n",
       "    <tr>\n",
       "      <th>SWK</th>\n",
       "      <td>1183.439588</td>\n",
       "      <td>SWK</td>\n",
       "    </tr>\n",
       "    <tr>\n",
       "      <th>...</th>\n",
       "      <td>...</td>\n",
       "      <td>...</td>\n",
       "    </tr>\n",
       "    <tr>\n",
       "      <th>EQR</th>\n",
       "      <td>76993.482754</td>\n",
       "      <td>EQR</td>\n",
       "    </tr>\n",
       "    <tr>\n",
       "      <th>UAA</th>\n",
       "      <td>77885.280575</td>\n",
       "      <td>UAA</td>\n",
       "    </tr>\n",
       "    <tr>\n",
       "      <th>AES</th>\n",
       "      <td>98894.260840</td>\n",
       "      <td>AES</td>\n",
       "    </tr>\n",
       "    <tr>\n",
       "      <th>PVH</th>\n",
       "      <td>136049.318543</td>\n",
       "      <td>PVH</td>\n",
       "    </tr>\n",
       "    <tr>\n",
       "      <th>MPC</th>\n",
       "      <td>530673.004537</td>\n",
       "      <td>MPC</td>\n",
       "    </tr>\n",
       "  </tbody>\n",
       "</table>\n",
       "<p>488 rows × 2 columns</p>\n",
       "</div>"
      ],
      "text/plain": [
       "           communal index\n",
       "NVR      182.471879   NVR\n",
       "BKNG     242.181175  BKNG\n",
       "GOOG     614.579878  GOOG\n",
       "AMGN    1042.087429  AMGN\n",
       "SWK     1183.439588   SWK\n",
       "...             ...   ...\n",
       "EQR    76993.482754   EQR\n",
       "UAA    77885.280575   UAA\n",
       "AES    98894.260840   AES\n",
       "PVH   136049.318543   PVH\n",
       "MPC   530673.004537   MPC\n",
       "\n",
       "[488 rows x 2 columns]"
      ]
     },
     "execution_count": 8,
     "metadata": {},
     "output_type": "execute_result"
    }
   ],
   "source": [
    "# autoencoder = load_model('D:/jupyter/Project_796/Models/com_autoencoder.h5')\n",
    "data = stock['calibrate']['net']\n",
    "predict = autoencoder.predict(data) \n",
    "# use different error measure to decide which stocks are market followers which are not\n",
    "\n",
    "# we need to figure out what is the best error measure,?\n",
    "\n",
    "# so far we use 2 norm and sum absolute relative error\n",
    "communal_information = np.sum(np.absolute((stock['calibrate']['net'] - predict)/predict),axis = 0) \n",
    "# ranking\n",
    "ranking = np.array(communal_information).argsort()\n",
    "ranks = pd.DataFrame({'communal' : communal_information[ranking] ,'index' : data.columns[ranking] })\n",
    "ranks"
   ]
  },
  {
   "cell_type": "code",
   "execution_count": 9,
   "metadata": {},
   "outputs": [
    {
     "data": {
      "text/plain": [
       "\"\\npredict = autoencoder.predict(data) # predict 重新得到输出层\\n# use 2 different norm to decide which stocks are market leader which are not\\ncommunal_information = np.linalg.norm((stock['calibrate']['net'] - predict),axis = 0) \\n# ranking\\nranking = np.array(communal_information).argsort()\\nranks = pd.DataFrame({'communal' : communal_information[ranking] ,'index' : data.columns[ranking] })\\nranks\\n\\n### Let see what the best one looks like ( Pretty good, One of the best Market follower)\\n\""
      ]
     },
     "execution_count": 9,
     "metadata": {},
     "output_type": "execute_result"
    }
   ],
   "source": [
    "'''\n",
    "predict = autoencoder.predict(data) # predict 重新得到输出层\n",
    "# use 2 different norm to decide which stocks are market leader which are not\n",
    "communal_information = np.linalg.norm((stock['calibrate']['net'] - predict),axis = 0) \n",
    "# ranking\n",
    "ranking = np.array(communal_information).argsort()\n",
    "ranks = pd.DataFrame({'communal' : communal_information[ranking] ,'index' : data.columns[ranking] })\n",
    "ranks\n",
    "\n",
    "### Let see what the best one looks like ( Pretty good, One of the best Market follower)\n",
    "'''"
   ]
  },
  {
   "cell_type": "markdown",
   "metadata": {},
   "source": [
    "### Let see what the best one looks like"
   ]
  },
  {
   "cell_type": "code",
   "execution_count": 10,
   "metadata": {
    "scrolled": true
   },
   "outputs": [
    {
     "data": {
      "text/plain": [
       "<matplotlib.legend.Legend at 0x2599d22b8c8>"
      ]
     },
     "execution_count": 10,
     "metadata": {},
     "output_type": "execute_result"
    },
    {
     "data": {
      "image/png": "[encoded data removed]",
      "text/plain": [
       "<Figure size 432x288 with 1 Axes>"
      ]
     },
     "metadata": {
      "needs_background": "light"
     },
     "output_type": "display_data"
    }
   ],
   "source": [
    "which_stock = ranking[0]\n",
    "\n",
    "\n",
    "stock_autoencoder = copy.deepcopy(predict[:, which_stock]);stock_autoencoder\n",
    "stock_autoencoder = stock_autoencoder.cumsum()\n",
    "stock_autoencoder += (stock['calibrate']['lp'].iloc[0, which_stock])\n",
    "## plot for comparison\n",
    "plt.plot(np.array(stock['calibrate']['lp'].iloc[:, which_stock]),label = 'lp')\n",
    "plt.plot(stock_autoencoder,label = 'auto')\n",
    "plt.legend()\n"
   ]
  },
  {
   "cell_type": "markdown",
   "metadata": {},
   "source": [
    "### Let see what the worst one looks like \n",
    "\n",
    "##### The communal information is the most shared information that was saved during dimension reduction.\n",
    "##### Thus, the faliure of reproducing the path means the every other stocks in the market doest share too much common information with this stock\n",
    "\n",
    "##### in other words, this stock doesnt follows others and when market goes down, it maynot. we need these kind of stocks to hedge our portfolio"
   ]
  },
  {
   "cell_type": "code",
   "execution_count": 11,
   "metadata": {
    "scrolled": false
   },
   "outputs": [
    {
     "data": {
      "text/plain": [
       "<matplotlib.legend.Legend at 0x2599d302508>"
      ]
     },
     "execution_count": 11,
     "metadata": {},
     "output_type": "execute_result"
    },
    {
     "data": {
      "image/png": "[encoded data removed]",
      "text/plain": [
       "<Figure size 432x288 with 1 Axes>"
      ]
     },
     "metadata": {
      "needs_background": "light"
     },
     "output_type": "display_data"
    }
   ],
   "source": [
    "which_stock = ranking[-1]\n",
    "\n",
    "# now decoded last price plot\n",
    "stock_autoencoder = copy.deepcopy(predict[:, which_stock]);stock_autoencoder\n",
    "\n",
    "stock_autoencoder = stock_autoencoder.cumsum()\n",
    "\n",
    "stock_autoencoder\n",
    "\n",
    "stock['calibrate']['net'].iloc[:,which_stock]\n",
    "\n",
    "stock_autoencoder += (stock['calibrate']['lp'].iloc[0, which_stock])\n",
    "\n",
    "## plot for comparison\n",
    "plt.plot(np.array(stock['calibrate']['lp'].iloc[:, which_stock]),label = 'lp')\n",
    "plt.plot(stock_autoencoder,label = 'auto')\n",
    "plt.legend()"
   ]
  },
  {
   "cell_type": "markdown",
   "metadata": {},
   "source": [
    "### Pick 50(or 20 or 10 or ...) from this ranking list\n",
    "##### we want both market follower and no-market follower"
   ]
  },
  {
   "cell_type": "markdown",
   "metadata": {},
   "source": [
    "### Calibriation"
   ]
  },
  {
   "cell_type": "code",
   "execution_count": 12,
   "metadata": {
    "scrolled": true
   },
   "outputs": [],
   "source": [
    "spy_predict = defaultdict(defaultdict)\n",
    "total_2_norm_diff = defaultdict(defaultdict)\n",
    "dl_scaler = defaultdict(StandardScaler)\n",
    "non = np.array([15, 35, 55]) # numbrt of non_communal ??\n",
    "initial = 50 # number of market follower  ??\n",
    "\n",
    "# test different number of non_communal\n",
    "for non_communal in non:  \n",
    "    encoding_dim = 128 \n",
    "    s = initial + non_communal # dimension of inputs, number of stocks\n",
    "    stock_index = np.concatenate((ranking[0:initial], ranking[-non_communal:])) # set the index of portoflio\n",
    "    \n",
    "    \n",
    "    # connect layers\n",
    "    input_img = Input(shape=(s,))\n",
    "    encoded = Dense(encoding_dim, activation='relu', kernel_regularizer=regularizers.l2(0.01))(input_img)\n",
    "    encoded = Dense(64, activation='relu',kernel_regularizer=regularizers.l2(0.01))(encoded)\n",
    "    encoded = Dense(32,activation='relu',kernel_regularizer=regularizers.l2(0.01))(encoded)\n",
    "    decoded = Dense(64, activation='relu',kernel_regularizer=regularizers.l2(0.01))(encoded)\n",
    "    decoded = Dense(128, activation='relu',kernel_regularizer=regularizers.l2(0.01))(decoded)\n",
    "    decoded = Dense(1, activation= 'linear', kernel_regularizer=regularizers.l2(0.01))(decoded) \n",
    "    \n",
    "    \n",
    "    # construct and compile\n",
    "    deep_learner = Model(input_img, decoded)\n",
    "    deep_learner.compile(optimizer='sgd', loss='mean_squared_error')\n",
    "    \n",
    "    x = stock['calibrate']['percentage'].iloc[:, stock_index]\n",
    "    y = spy['calibrate']['percentage']\n",
    "    # normalize the data ( clean)\n",
    "    dl_scaler[s] = StandardScaler()     \n",
    "    dl_scaler[s].fit(x)\n",
    "    x = dl_scaler[s].transform(x)  \n",
    "    \n",
    "    deep_learner.fit(x, y, shuffle=False, epochs=500, batch_size = 10 , verbose = 0)    # fit the model\n",
    "    deep_learner.save('D:/jupyter/Project_796/Models/trained_autoencoder{}.h5'.format(s))\n",
    "    \n",
    "    #calculate the error\n",
    "    relative_percentage = copy.deepcopy(deep_learner.predict(x))\n",
    "    \n",
    "    relative_percentage = (relative_percentage/100 ) + 1\n",
    "    \n",
    "    spy_predict['calibrate'][s] = spy['calibrate']['lp'].iloc[0,0] * (relative_percentage.cumprod())          \n",
    "    total_2_norm_diff['calibrate'][s] = np.linalg.norm(np.array(spy_predict['calibrate'][s]) - np.array(spy['calibrate']['lp']))"
   ]
  },
  {
   "cell_type": "code",
   "execution_count": 13,
   "metadata": {
    "scrolled": false
   },
   "outputs": [
    {
     "data": {
      "text/plain": [
       "<matplotlib.legend.Legend at 0x2599fed6188>"
      ]
     },
     "execution_count": 13,
     "metadata": {},
     "output_type": "execute_result"
    },
    {
     "data": {
      "image/png": "[encoded data removed]",
      "text/plain": [
       "<Figure size 432x288 with 1 Axes>"
      ]
     },
     "metadata": {
      "needs_background": "light"
     },
     "output_type": "display_data"
    }
   ],
   "source": [
    "# plot results \n",
    "plt.plot(np.array(spy['calibrate']['lp'] ), label = 'lp')\n",
    "\n",
    "for s in (initial + non):\n",
    "   \n",
    "    plt.plot(np.array(spy_predict['calibrate'][s] ), label = '{}'.format(s))\n",
    "plt.legend()"
   ]
  },
  {
   "cell_type": "code",
   "execution_count": 14,
   "metadata": {},
   "outputs": [
    {
     "name": "stdout",
     "output_type": "stream",
     "text": [
      "defaultdict(None, {65: 3828.526, 85: 3844.3872, 105: 3903.5662})\n"
     ]
    }
   ],
   "source": [
    "print(total_2_norm_diff['calibrate'])"
   ]
  },
  {
   "cell_type": "markdown",
   "metadata": {},
   "source": [
    "### validating"
   ]
  },
  {
   "cell_type": "code",
   "execution_count": 15,
   "metadata": {},
   "outputs": [],
   "source": [
    "for non_communal in non:  \n",
    "    s = initial + non_communal\n",
    "    stock_index = np.concatenate((ranking[0:initial], ranking[-non_communal:])) # portfolio index\n",
    "    \n",
    "    # load  trained models\n",
    "    deep_learner = load_model('D:/jupyter/Project_796/Models/trained_autoencoder{}.h5'.format(s))\n",
    "    \n",
    "    \n",
    "    x = stock['validate']['percentage'].iloc[:, stock_index]\n",
    "    x = dl_scaler[s].transform(x)  \n",
    "    \n",
    "    # calculate the error\n",
    "    relative_percentage = copy.deepcopy(deep_learner.predict(x))\n",
    "\n",
    "    relative_percentage = (relative_percentage /100) + 1\n",
    "    \n",
    "    spy_predict['validate'][s] = spy['validate']['lp'].iloc[0,0] * (relative_percentage.cumprod())          \n",
    "    total_2_norm_diff['validate'][s] = np.linalg.norm((np.array(spy_predict['validate'][s]) - np.array(spy['validate']['lp'])))"
   ]
  },
  {
   "cell_type": "code",
   "execution_count": 16,
   "metadata": {
    "scrolled": false
   },
   "outputs": [
    {
     "data": {
      "text/plain": [
       "<matplotlib.legend.Legend at 0x259a3dc9b48>"
      ]
     },
     "execution_count": 16,
     "metadata": {},
     "output_type": "execute_result"
    },
    {
     "data": {
      "image/png": "[encoded data removed]",
      "text/plain": [
       "<Figure size 432x288 with 1 Axes>"
      ]
     },
     "metadata": {
      "needs_background": "light"
     },
     "output_type": "display_data"
    }
   ],
   "source": [
    "# plot result\n",
    "plt.plot(np.array(spy['validate']['lp'] ), label = 'lp')\n",
    "\n",
    "for s in (initial + non): \n",
    "    plt.plot(np.array(spy_predict['validate'][s] ), label = '{}'.format(s))\n",
    "plt.legend()"
   ]
  },
  {
   "cell_type": "markdown",
   "metadata": {},
   "source": [
    "### few test"
   ]
  },
  {
   "cell_type": "code",
   "execution_count": 17,
   "metadata": {},
   "outputs": [],
   "source": [
    "# error = []\n",
    "# for non_communal in range(5, 79, 1):  \n",
    "#     encoding_dim = 128\n",
    "#     s = initial + non_communal\n",
    "#     stock_index = np.concatenate((ranking[0:initial], ranking[-non_communal:])) # portfolio index\n",
    "\n",
    "\n",
    "#     # training\n",
    "#     input_img = Input(shape=(s,))\n",
    "#     encoded = Dense(encoding_dim, activation='relu', kernel_regularizer=regularizers.l2(0.01))(input_img)\n",
    "#     encoded = Dense(64, activation='relu',kernel_regularizer=regularizers.l2(0.01))(encoded)\n",
    "#     encoded = Dense(32,activation='relu',kernel_regularizer=regularizers.l2(0.01))(encoded)\n",
    "#     decoded = Dense(64, activation='relu',kernel_regularizer=regularizers.l2(0.01))(encoded)\n",
    "#     decoded = Dense(128, activation='relu',kernel_regularizer=regularizers.l2(0.01))(decoded)\n",
    "#     decoded = Dense(1, activation= 'linear', kernel_regularizer=regularizers.l2(0.01))(encoded)\n",
    "    \n",
    "#     deep_learner = Model(input_img, decoded)\n",
    "#     deep_learner.compile(optimizer='sgd', loss='mean_squared_error')\n",
    "    \n",
    "#     x_train = stock['calibrate']['percentage'].iloc[:, stock_index]\n",
    "#     y_train = spy['calibrate']['percentage']\n",
    "    \n",
    "#     dl_scaler[s] = StandardScaler() \n",
    "#     dl_scaler[s].fit(x_train)\n",
    "#     x_train = dl_scaler[s].transform(x_train)  \n",
    "    \n",
    "#     deep_learner.fit(x_train, y_train, shuffle=False, epochs=500, batch_size = 10 , verbose = 0)    # fit the model\n",
    "\n",
    "\n",
    "#     # testing\n",
    "#     x_test = stock['validate']['percentage'].iloc[:, stock_index]\n",
    "#     y_test = spy['validate']['percentage']\n",
    "\n",
    "#     x_test = dl_scaler[s].transform(x_test)  \n",
    "    \n",
    "#     relative_percentage = copy.deepcopy(deep_learner.predict(x_test))\n",
    "#     relative_percentage[0] = 0\n",
    "#     relative_percentage = (relative_percentage /100) + 1\n",
    "    \n",
    "#     predict_curve = spy['validate']['lp'].iloc[0,0] * (relative_percentage.cumprod())          \n",
    "#     error.append(np.linalg.norm((np.array(predict_curve) - np.array(spy['validate']['lp']))))    "
   ]
  },
  {
   "cell_type": "code",
   "execution_count": 18,
   "metadata": {
    "scrolled": true
   },
   "outputs": [],
   "source": [
    "# mse = [e/len(spy['validate']['lp']) for e in error] # mse\\\n",
    "# plt.gca().invert_yaxis()\n",
    "# plt.plot(mse, list(range(5,79,1)))\n",
    "# plt.xlabel('Mean Squared Error')\n",
    "# plt.ylabel('number of stocks in the portfolio') "
   ]
  },
  {
   "cell_type": "markdown",
   "metadata": {},
   "source": [
    "### beat the market"
   ]
  },
  {
   "cell_type": "code",
   "execution_count": 19,
   "metadata": {
    "scrolled": true
   },
   "outputs": [],
   "source": [
    "spy_predict = defaultdict(defaultdict)\n",
    "total_2_norm_diff = defaultdict(defaultdict)\n",
    "dl_scaler = defaultdict(StandardScaler)\n",
    "non = np.array([15, 35, 55]) # numbrt of non_communal ??\n",
    "initial = 50 # number of market follower  ??\n",
    "y = copy.deepcopy (spy['calibrate']['percentage'])\n",
    "# y= spy['calibrate']['percentage']\n",
    "y[y < -1] = 0"
   ]
  },
  {
   "cell_type": "code",
   "execution_count": 20,
   "metadata": {},
   "outputs": [],
   "source": [
    "# test different number of non_communal\n",
    "for non_communal in non:  \n",
    "    encoding_dim = 128 \n",
    "    s = initial + non_communal # dimension of inputs, number of stocks\n",
    "    stock_index = np.concatenate((ranking[0:initial], ranking[-non_communal:])) # set the index of portoflio\n",
    "    \n",
    "    \n",
    "    # connect layers\n",
    "    input_img = Input(shape=(s,))\n",
    "    encoded = Dense(encoding_dim, activation='relu', kernel_regularizer=regularizers.l2(0.01))(input_img)\n",
    "    encoded = Dense(64, activation='relu',kernel_regularizer=regularizers.l2(0.01))(encoded)\n",
    "    encoded = Dense(32,activation='relu',kernel_regularizer=regularizers.l2(0.01))(encoded)\n",
    "    decoded = Dense(64, activation='relu',kernel_regularizer=regularizers.l2(0.01))(encoded)\n",
    "    decoded = Dense(128, activation='relu',kernel_regularizer=regularizers.l2(0.01))(decoded)\n",
    "    decoded = Dense(1, activation= 'linear', kernel_regularizer=regularizers.l2(0.01))(decoded) \n",
    "    \n",
    "    \n",
    "    # construct and compile\n",
    "    deep_learner = Model(input_img, decoded)\n",
    "    deep_learner.compile(optimizer='sgd', loss='mean_squared_error')\n",
    "    \n",
    "    x = stock['calibrate']['percentage'].iloc[:, stock_index]\n",
    "\n",
    "    # normalize the data ( clean)\n",
    "    dl_scaler[s] = StandardScaler()     \n",
    "    dl_scaler[s].fit(x)\n",
    "    x = dl_scaler[s].transform(x)  \n",
    "    \n",
    "    deep_learner.fit(x, y, shuffle=False, epochs=500, batch_size = 10 , verbose = 0)    # fit the model\n",
    "    deep_learner.save('D:/jupyter/Project_796/Models/trained_autoencoder{}.h5'.format(s))\n",
    "    \n",
    "    #calculate the error\n",
    "    relative_percentage = copy.deepcopy(deep_learner.predict(x))\n",
    "    \n",
    "    relative_percentage = (relative_percentage/100 ) + 1\n",
    "    \n",
    "    spy_predict['calibrate'][s] = spy['calibrate']['lp'].iloc[0,0] * np.concatenate([[1],relative_percentage.cumprod()])  \n",
    "    total_2_norm_diff['calibrate'][s] = np.linalg.norm(np.array(spy_predict['calibrate'][s]) - np.array(spy['calibrate']['lp']))"
   ]
  },
  {
   "cell_type": "code",
   "execution_count": 21,
   "metadata": {},
   "outputs": [],
   "source": [
    "ypath = spy['calibrate']['lp'].iloc[0,0] * np.concatenate([[1],np.array((y/100)+1).cumprod()])  "
   ]
  },
  {
   "cell_type": "code",
   "execution_count": 22,
   "metadata": {
    "scrolled": false
   },
   "outputs": [
    {
     "data": {
      "text/plain": [
       "<matplotlib.legend.Legend at 0x259a1ff5e48>"
      ]
     },
     "execution_count": 22,
     "metadata": {},
     "output_type": "execute_result"
    },
    {
     "data": {
      "image/png": "[encoded data removed]",
      "text/plain": [
       "<Figure size 432x288 with 1 Axes>"
      ]
     },
     "metadata": {
      "needs_background": "light"
     },
     "output_type": "display_data"
    }
   ],
   "source": [
    "# plot result\n",
    "plt.plot(np.array(spy['calibrate']['lp'] ), label = 'lp')\n",
    "plt.plot(ypath,label= 'y')\n",
    "for s in (initial + non): \n",
    "    plt.plot(np.array(spy_predict['calibrate'][s] ), label = '{}'.format(s))\n",
    "plt.legend()"
   ]
  },
  {
   "cell_type": "code",
   "execution_count": 23,
   "metadata": {},
   "outputs": [],
   "source": [
    "for non_communal in non:  \n",
    "    s = initial + non_communal\n",
    "    stock_index = np.concatenate((ranking[0:initial], ranking[-non_communal:])) # portfolio index\n",
    "    \n",
    "    # load  trained models\n",
    "    deep_learner = load_model('D:/jupyter/Project_796/Models/trained_autoencoder{}.h5'.format(s))\n",
    "    \n",
    "    \n",
    "    x = stock['validate']['percentage'].iloc[:, stock_index]\n",
    "    x = dl_scaler[s].transform(x)  \n",
    "    \n",
    "    # calculate the error\n",
    "    relative_percentage = copy.deepcopy(deep_learner.predict(x))\n",
    "\n",
    "    relative_percentage = (relative_percentage /100) + 1\n",
    "    \n",
    "    spy_predict['validate'][s] = spy['validate']['lp'].iloc[0,0] * (relative_percentage.cumprod())          \n",
    "    total_2_norm_diff['validate'][s] = np.linalg.norm((np.array(spy_predict['validate'][s]) - np.array(spy['validate']['lp'])))"
   ]
  },
  {
   "cell_type": "code",
   "execution_count": 24,
   "metadata": {},
   "outputs": [
    {
     "data": {
      "text/plain": [
       "<matplotlib.legend.Legend at 0x259a42dc5c8>"
      ]
     },
     "execution_count": 24,
     "metadata": {},
     "output_type": "execute_result"
    },
    {
     "data": {
      "image/png": "[encoded data removed]",
      "text/plain": [
       "<Figure size 432x288 with 1 Axes>"
      ]
     },
     "metadata": {
      "needs_background": "light"
     },
     "output_type": "display_data"
    }
   ],
   "source": [
    "# plot result\n",
    "plt.plot(np.array(spy['validate']['lp'] ), label = 'lp')\n",
    "\n",
    "for s in (initial + non): \n",
    "    plt.plot(np.array(spy_predict['validate'][s] ), label = '{}'.format(s))\n",
    "plt.legend()"
   ]
  },
  {
   "cell_type": "markdown",
   "metadata": {},
   "source": [
    "### 在改成class 不用看"
   ]
  },
  {
   "cell_type": "code",
   "execution_count": 25,
   "metadata": {},
   "outputs": [],
   "source": [
    "class autoencoder:\n",
    "    def __init__(self,data , mode = 'Nan', optimizer = 'sgd', loss = 'mean_squared_error'):\n",
    "        self.data = data\n",
    "        self.optimizer = optimizer\n",
    "        self.loss = loss\n",
    "        self.mode = mode\n",
    "    def initial_model(self):\n",
    "        if self.mode == 'dimension reduction':\n",
    "            self.model_dr(100)\n",
    "            \n",
    "    def model_dr(self,s):\n",
    "        input_img = Input(shape=(s,))\n",
    "        encoded = Dense(128, activation='relu', kernel_regularizer=regularizers.l2(0.01))(input_img)\n",
    "        encoded = Dense(64, activation='relu',kernel_regularizer=regularizers.l2(0.01))(encoded)\n",
    "        encoded = Dense(32,activation='relu',kernel_regularizer=regularizers.l2(0.01))(encoded)\n",
    "        decoded = Dense(64, activation='relu',kernel_regularizer=regularizers.l2(0.01))(encoded)\n",
    "        decoded = Dense(128, activation='relu',kernel_regularizer=regularizers.l2(0.01))(decoded)\n",
    "        decoded = Dense(s, activation= 'linear', kernel_regularizer=regularizers.l2(0.01))(decoded) \n",
    "        self.autoencoder = Model(input_img , decoded)\n",
    "        self.autoencoder.compile(optimizer='sgd', loss='mean_squared_error')\n",
    "    def model_port(self):\n",
    "        input_img = Input(shape=(s,))\n",
    "        encoded = Dense(encoding_dim, activation='relu', kernel_regularizer=regularizers.l2(0.01))(input_img)\n",
    "        encoded = Dense(64, activation='relu',kernel_regularizer=regularizers.l2(0.01))(encoded)\n",
    "        encoded = Dense(32,activation='relu',kernel_regularizer=regularizers.l2(0.01))(encoded)\n",
    "        decoded = Dense(64, activation='relu',kernel_regularizer=regularizers.l2(0.01))(encoded)\n",
    "        decoded = Dense(128, activation='relu',kernel_regularizer=regularizers.l2(0.01))(decoded)\n",
    "        decoded = Dense(1, activation= 'linear', kernel_regularizer=regularizers.l2(0.01))(decoded) \n",
    "    \n",
    "    def train(self):\n",
    "        self.autoencoder.fit(test, test, shuffle=False, epochs=200, batch_size = 10 , verbose = False) \n",
    "        \n",
    "    def predict (self , obj):\n",
    "        res = self.autoencoder.predict(obj)\n",
    "        return res"
   ]
  },
  {
   "cell_type": "code",
   "execution_count": 26,
   "metadata": {},
   "outputs": [],
   "source": [
    "m = autoencoder('da','dimension reduction')"
   ]
  },
  {
   "cell_type": "code",
   "execution_count": 27,
   "metadata": {},
   "outputs": [],
   "source": [
    "m.initial_model()"
   ]
  },
  {
   "cell_type": "code",
   "execution_count": 28,
   "metadata": {
    "scrolled": true
   },
   "outputs": [
    {
     "name": "stdout",
     "output_type": "stream",
     "text": [
      "Epoch 1/200\n",
      "1/1 [==============================] - 0s 78ms/step - loss: 3434.6108\n",
      "Epoch 2/200\n",
      "1/1 [==============================] - 0s 2ms/step - loss: 107963200.0000\n",
      "Epoch 3/200\n",
      "1/1 [==============================] - 0s 998us/step - loss: inf\n",
      "Epoch 4/200\n",
      "1/1 [==============================] - 0s 997us/step - loss: nan\n",
      "Epoch 5/200\n",
      "1/1 [==============================] - 0s 2ms/step - loss: nan\n",
      "Epoch 6/200\n",
      "1/1 [==============================] - 0s 998us/step - loss: nan\n",
      "Epoch 7/200\n",
      "1/1 [==============================] - 0s 2ms/step - loss: nan\n",
      "Epoch 8/200\n",
      "1/1 [==============================] - 0s 2ms/step - loss: nan\n",
      "Epoch 9/200\n",
      "1/1 [==============================] - 0s 998us/step - loss: nan\n",
      "Epoch 10/200\n",
      "1/1 [==============================] - 0s 998us/step - loss: nan\n",
      "Epoch 11/200\n",
      "1/1 [==============================] - 0s 998us/step - loss: nan\n",
      "Epoch 12/200\n",
      "1/1 [==============================] - 0s 2ms/step - loss: nan\n",
      "Epoch 13/200\n",
      "1/1 [==============================] - 0s 2ms/step - loss: nan\n",
      "Epoch 14/200\n",
      "1/1 [==============================] - 0s 997us/step - loss: nan\n",
      "Epoch 15/200\n",
      "1/1 [==============================] - 0s 2ms/step - loss: nan\n",
      "Epoch 16/200\n",
      "1/1 [==============================] - 0s 998us/step - loss: nan\n",
      "Epoch 17/200\n",
      "1/1 [==============================] - 0s 1ms/step - loss: nan\n",
      "Epoch 18/200\n",
      "1/1 [==============================] - 0s 2ms/step - loss: nan\n",
      "Epoch 19/200\n",
      "1/1 [==============================] - 0s 996us/step - loss: nan\n",
      "Epoch 20/200\n",
      "1/1 [==============================] - 0s 1ms/step - loss: nan\n",
      "Epoch 21/200\n",
      "1/1 [==============================] - 0s 2ms/step - loss: nan\n",
      "Epoch 22/200\n",
      "1/1 [==============================] - 0s 2ms/step - loss: nan\n",
      "Epoch 23/200\n",
      "1/1 [==============================] - 0s 2ms/step - loss: nan\n",
      "Epoch 24/200\n",
      "1/1 [==============================] - 0s 2ms/step - loss: nan\n",
      "Epoch 25/200\n",
      "1/1 [==============================] - 0s 2ms/step - loss: nan\n",
      "Epoch 26/200\n",
      "1/1 [==============================] - 0s 2ms/step - loss: nan\n",
      "Epoch 27/200\n",
      "1/1 [==============================] - 0s 997us/step - loss: nan\n",
      "Epoch 28/200\n",
      "1/1 [==============================] - 0s 998us/step - loss: nan\n",
      "Epoch 29/200\n",
      "1/1 [==============================] - 0s 2ms/step - loss: nan\n",
      "Epoch 30/200\n",
      "1/1 [==============================] - 0s 3ms/step - loss: nan\n",
      "Epoch 31/200\n",
      "1/1 [==============================] - 0s 2ms/step - loss: nan\n",
      "Epoch 32/200\n",
      "1/1 [==============================] - 0s 2ms/step - loss: nan\n",
      "Epoch 33/200\n",
      "1/1 [==============================] - 0s 3ms/step - loss: nan\n",
      "Epoch 34/200\n",
      "1/1 [==============================] - 0s 2ms/step - loss: nan\n",
      "Epoch 35/200\n",
      "1/1 [==============================] - 0s 2ms/step - loss: nan\n",
      "Epoch 36/200\n",
      "1/1 [==============================] - 0s 996us/step - loss: nan\n",
      "Epoch 37/200\n",
      "1/1 [==============================] - 0s 3ms/step - loss: nan\n",
      "Epoch 38/200\n",
      "1/1 [==============================] - 0s 2ms/step - loss: nan\n",
      "Epoch 39/200\n",
      "1/1 [==============================] - 0s 3ms/step - loss: nan\n",
      "Epoch 40/200\n",
      "1/1 [==============================] - 0s 2ms/step - loss: nan\n",
      "Epoch 41/200\n",
      "1/1 [==============================] - 0s 2ms/step - loss: nan\n",
      "Epoch 42/200\n",
      "1/1 [==============================] - 0s 2ms/step - loss: nan\n",
      "Epoch 43/200\n",
      "1/1 [==============================] - 0s 2ms/step - loss: nan\n",
      "Epoch 44/200\n",
      "1/1 [==============================] - 0s 989us/step - loss: nan\n",
      "Epoch 45/200\n",
      "1/1 [==============================] - 0s 994us/step - loss: nan\n",
      "Epoch 46/200\n",
      "1/1 [==============================] - 0s 997us/step - loss: nan\n",
      "Epoch 47/200\n",
      "1/1 [==============================] - 0s 998us/step - loss: nan\n",
      "Epoch 48/200\n",
      "1/1 [==============================] - 0s 2ms/step - loss: nan\n",
      "Epoch 49/200\n",
      "1/1 [==============================] - 0s 999us/step - loss: nan\n",
      "Epoch 50/200\n",
      "1/1 [==============================] - 0s 2ms/step - loss: nan\n",
      "Epoch 51/200\n",
      "1/1 [==============================] - 0s 2ms/step - loss: nan\n",
      "Epoch 52/200\n",
      "1/1 [==============================] - 0s 3ms/step - loss: nan\n",
      "Epoch 53/200\n",
      "1/1 [==============================] - 0s 3ms/step - loss: nan\n",
      "Epoch 54/200\n",
      "1/1 [==============================] - 0s 2ms/step - loss: nan\n",
      "Epoch 55/200\n",
      "1/1 [==============================] - 0s 1ms/step - loss: nan\n",
      "Epoch 56/200\n",
      "1/1 [==============================] - 0s 2ms/step - loss: nan\n",
      "Epoch 57/200\n",
      "1/1 [==============================] - 0s 3ms/step - loss: nan\n",
      "Epoch 58/200\n",
      "1/1 [==============================] - 0s 3ms/step - loss: nan\n",
      "Epoch 59/200\n",
      "1/1 [==============================] - 0s 2ms/step - loss: nan\n",
      "Epoch 60/200\n",
      "1/1 [==============================] - 0s 2ms/step - loss: nan\n",
      "Epoch 61/200\n",
      "1/1 [==============================] - 0s 998us/step - loss: nan\n",
      "Epoch 62/200\n",
      "1/1 [==============================] - 0s 996us/step - loss: nan\n",
      "Epoch 63/200\n",
      "1/1 [==============================] - 0s 987us/step - loss: nan\n",
      "Epoch 64/200\n",
      "1/1 [==============================] - 0s 2ms/step - loss: nan\n",
      "Epoch 65/200\n",
      "1/1 [==============================] - 0s 1ms/step - loss: nan\n",
      "Epoch 66/200\n",
      "1/1 [==============================] - 0s 992us/step - loss: nan\n",
      "Epoch 67/200\n",
      "1/1 [==============================] - 0s 2ms/step - loss: nan\n",
      "Epoch 68/200\n",
      "1/1 [==============================] - 0s 985us/step - loss: nan\n",
      "Epoch 69/200\n",
      "1/1 [==============================] - 0s 2ms/step - loss: nan\n",
      "Epoch 70/200\n",
      "1/1 [==============================] - 0s 2ms/step - loss: nan\n",
      "Epoch 71/200\n",
      "1/1 [==============================] - 0s 997us/step - loss: nan\n",
      "Epoch 72/200\n",
      "1/1 [==============================] - 0s 2ms/step - loss: nan\n",
      "Epoch 73/200\n",
      "1/1 [==============================] - 0s 2ms/step - loss: nan\n",
      "Epoch 74/200\n",
      "1/1 [==============================] - 0s 997us/step - loss: nan\n",
      "Epoch 75/200\n",
      "1/1 [==============================] - 0s 3ms/step - loss: nan\n",
      "Epoch 76/200\n",
      "1/1 [==============================] - 0s 3ms/step - loss: nan\n",
      "Epoch 77/200\n",
      "1/1 [==============================] - 0s 2ms/step - loss: nan\n",
      "Epoch 78/200\n",
      "1/1 [==============================] - 0s 2ms/step - loss: nan\n",
      "Epoch 79/200\n",
      "1/1 [==============================] - 0s 2ms/step - loss: nan\n",
      "Epoch 80/200\n",
      "1/1 [==============================] - 0s 999us/step - loss: nan\n",
      "Epoch 81/200\n",
      "1/1 [==============================] - 0s 1000us/step - loss: nan\n",
      "Epoch 82/200\n",
      "1/1 [==============================] - 0s 998us/step - loss: nan\n",
      "Epoch 83/200\n",
      "1/1 [==============================] - 0s 2ms/step - loss: nan\n",
      "Epoch 84/200\n",
      "1/1 [==============================] - 0s 996us/step - loss: nan\n",
      "Epoch 85/200\n",
      "1/1 [==============================] - 0s 997us/step - loss: nan\n",
      "Epoch 86/200\n",
      "1/1 [==============================] - 0s 2ms/step - loss: nan\n",
      "Epoch 87/200\n",
      "1/1 [==============================] - 0s 2ms/step - loss: nan\n",
      "Epoch 88/200\n",
      "1/1 [==============================] - 0s 997us/step - loss: nan\n",
      "Epoch 89/200\n",
      "1/1 [==============================] - 0s 998us/step - loss: nan\n",
      "Epoch 90/200\n",
      "1/1 [==============================] - 0s 997us/step - loss: nan\n",
      "Epoch 91/200\n",
      "1/1 [==============================] - 0s 998us/step - loss: nan\n",
      "Epoch 92/200\n",
      "1/1 [==============================] - 0s 997us/step - loss: nan\n",
      "Epoch 93/200\n",
      "1/1 [==============================] - 0s 998us/step - loss: nan\n",
      "Epoch 94/200\n",
      "1/1 [==============================] - 0s 998us/step - loss: nan\n",
      "Epoch 95/200\n",
      "1/1 [==============================] - 0s 998us/step - loss: nan\n",
      "Epoch 96/200\n",
      "1/1 [==============================] - 0s 2ms/step - loss: nan\n",
      "Epoch 97/200\n",
      "1/1 [==============================] - 0s 2ms/step - loss: nan\n",
      "Epoch 98/200\n",
      "1/1 [==============================] - 0s 997us/step - loss: nan\n",
      "Epoch 99/200\n",
      "1/1 [==============================] - 0s 998us/step - loss: nan\n",
      "Epoch 100/200\n",
      "1/1 [==============================] - 0s 984us/step - loss: nan\n",
      "Epoch 101/200\n",
      "1/1 [==============================] - 0s 998us/step - loss: nan\n",
      "Epoch 102/200\n",
      "1/1 [==============================] - 0s 998us/step - loss: nan\n",
      "Epoch 103/200\n",
      "1/1 [==============================] - 0s 997us/step - loss: nan\n",
      "Epoch 104/200\n",
      "1/1 [==============================] - 0s 997us/step - loss: nan\n",
      "Epoch 105/200\n",
      "1/1 [==============================] - 0s 997us/step - loss: nan\n",
      "Epoch 106/200\n",
      "1/1 [==============================] - 0s 996us/step - loss: nan\n",
      "Epoch 107/200\n",
      "1/1 [==============================] - 0s 997us/step - loss: nan\n"
     ]
    },
    {
     "name": "stdout",
     "output_type": "stream",
     "text": [
      "Epoch 108/200\n",
      "1/1 [==============================] - 0s 997us/step - loss: nan\n",
      "Epoch 109/200\n",
      "1/1 [==============================] - 0s 2ms/step - loss: nan\n",
      "Epoch 110/200\n",
      "1/1 [==============================] - 0s 2ms/step - loss: nan\n",
      "Epoch 111/200\n",
      "1/1 [==============================] - 0s 2ms/step - loss: nan\n",
      "Epoch 112/200\n",
      "1/1 [==============================] - 0s 997us/step - loss: nan\n",
      "Epoch 113/200\n",
      "1/1 [==============================] - 0s 2ms/step - loss: nan\n",
      "Epoch 114/200\n",
      "1/1 [==============================] - 0s 2ms/step - loss: nan\n",
      "Epoch 115/200\n",
      "1/1 [==============================] - 0s 2ms/step - loss: nan\n",
      "Epoch 116/200\n",
      "1/1 [==============================] - 0s 998us/step - loss: nan\n",
      "Epoch 117/200\n",
      "1/1 [==============================] - 0s 998us/step - loss: nan\n",
      "Epoch 118/200\n",
      "1/1 [==============================] - 0s 997us/step - loss: nan\n",
      "Epoch 119/200\n",
      "1/1 [==============================] - 0s 998us/step - loss: nan\n",
      "Epoch 120/200\n",
      "1/1 [==============================] - 0s 2ms/step - loss: nan\n",
      "Epoch 121/200\n",
      "1/1 [==============================] - 0s 997us/step - loss: nan\n",
      "Epoch 122/200\n",
      "1/1 [==============================] - 0s 996us/step - loss: nan\n",
      "Epoch 123/200\n",
      "1/1 [==============================] - 0s 996us/step - loss: nan\n",
      "Epoch 124/200\n",
      "1/1 [==============================] - 0s 997us/step - loss: nan\n",
      "Epoch 125/200\n",
      "1/1 [==============================] - 0s 982us/step - loss: nan\n",
      "Epoch 126/200\n",
      "1/1 [==============================] - 0s 997us/step - loss: nan\n",
      "Epoch 127/200\n",
      "1/1 [==============================] - 0s 997us/step - loss: nan\n",
      "Epoch 128/200\n",
      "1/1 [==============================] - 0s 2ms/step - loss: nan\n",
      "Epoch 129/200\n",
      "1/1 [==============================] - 0s 2ms/step - loss: nan\n",
      "Epoch 130/200\n",
      "1/1 [==============================] - 0s 998us/step - loss: nan\n",
      "Epoch 131/200\n",
      "1/1 [==============================] - 0s 2ms/step - loss: nan\n",
      "Epoch 132/200\n",
      "1/1 [==============================] - 0s 3ms/step - loss: nan\n",
      "Epoch 133/200\n",
      "1/1 [==============================] - 0s 3ms/step - loss: nan\n",
      "Epoch 134/200\n",
      "1/1 [==============================] - 0s 1000us/step - loss: nan\n",
      "Epoch 135/200\n",
      "1/1 [==============================] - 0s 2ms/step - loss: nan\n",
      "Epoch 136/200\n",
      "1/1 [==============================] - 0s 996us/step - loss: nan\n",
      "Epoch 137/200\n",
      "1/1 [==============================] - 0s 2ms/step - loss: nan\n",
      "Epoch 138/200\n",
      "1/1 [==============================] - 0s 2ms/step - loss: nan\n",
      "Epoch 139/200\n",
      "1/1 [==============================] - 0s 1ms/step - loss: nan\n",
      "Epoch 140/200\n",
      "1/1 [==============================] - 0s 2ms/step - loss: nan\n",
      "Epoch 141/200\n",
      "1/1 [==============================] - 0s 2ms/step - loss: nan\n",
      "Epoch 142/200\n",
      "1/1 [==============================] - 0s 997us/step - loss: nan\n",
      "Epoch 143/200\n",
      "1/1 [==============================] - 0s 996us/step - loss: nan\n",
      "Epoch 144/200\n",
      "1/1 [==============================] - 0s 1ms/step - loss: nan\n",
      "Epoch 145/200\n",
      "1/1 [==============================] - 0s 998us/step - loss: nan\n",
      "Epoch 146/200\n",
      "1/1 [==============================] - 0s 2ms/step - loss: nan\n",
      "Epoch 147/200\n",
      "1/1 [==============================] - 0s 997us/step - loss: nan\n",
      "Epoch 148/200\n",
      "1/1 [==============================] - 0s 2ms/step - loss: nan\n",
      "Epoch 149/200\n",
      "1/1 [==============================] - 0s 998us/step - loss: nan\n",
      "Epoch 150/200\n",
      "1/1 [==============================] - 0s 2ms/step - loss: nan\n",
      "Epoch 151/200\n",
      "1/1 [==============================] - 0s 2ms/step - loss: nan\n",
      "Epoch 152/200\n",
      "1/1 [==============================] - 0s 3ms/step - loss: nan\n",
      "Epoch 153/200\n",
      "1/1 [==============================] - 0s 2ms/step - loss: nan\n",
      "Epoch 154/200\n",
      "1/1 [==============================] - 0s 2ms/step - loss: nan\n",
      "Epoch 155/200\n",
      "1/1 [==============================] - 0s 998us/step - loss: nan\n",
      "Epoch 156/200\n",
      "1/1 [==============================] - 0s 997us/step - loss: nan\n",
      "Epoch 157/200\n",
      "1/1 [==============================] - 0s 996us/step - loss: nan\n",
      "Epoch 158/200\n",
      "1/1 [==============================] - 0s 997us/step - loss: nan\n",
      "Epoch 159/200\n",
      "1/1 [==============================] - 0s 998us/step - loss: nan\n",
      "Epoch 160/200\n",
      "1/1 [==============================] - 0s 2ms/step - loss: nan\n",
      "Epoch 161/200\n",
      "1/1 [==============================] - 0s 996us/step - loss: nan\n",
      "Epoch 162/200\n",
      "1/1 [==============================] - 0s 2ms/step - loss: nan\n",
      "Epoch 163/200\n",
      "1/1 [==============================] - 0s 997us/step - loss: nan\n",
      "Epoch 164/200\n",
      "1/1 [==============================] - 0s 999us/step - loss: nan\n",
      "Epoch 165/200\n",
      "1/1 [==============================] - 0s 998us/step - loss: nan\n",
      "Epoch 166/200\n",
      "1/1 [==============================] - 0s 3ms/step - loss: nan\n",
      "Epoch 167/200\n",
      "1/1 [==============================] - 0s 2ms/step - loss: nan\n",
      "Epoch 168/200\n",
      "1/1 [==============================] - 0s 996us/step - loss: nan\n",
      "Epoch 169/200\n",
      "1/1 [==============================] - 0s 997us/step - loss: nan\n",
      "Epoch 170/200\n",
      "1/1 [==============================] - 0s 1ms/step - loss: nan\n",
      "Epoch 171/200\n",
      "1/1 [==============================] - 0s 998us/step - loss: nan\n",
      "Epoch 172/200\n",
      "1/1 [==============================] - 0s 998us/step - loss: nan\n",
      "Epoch 173/200\n",
      "1/1 [==============================] - 0s 2ms/step - loss: nan\n",
      "Epoch 174/200\n",
      "1/1 [==============================] - 0s 2ms/step - loss: nan\n",
      "Epoch 175/200\n",
      "1/1 [==============================] - 0s 2ms/step - loss: nan\n",
      "Epoch 176/200\n",
      "1/1 [==============================] - 0s 998us/step - loss: nan\n",
      "Epoch 177/200\n",
      "1/1 [==============================] - 0s 2ms/step - loss: nan\n",
      "Epoch 178/200\n",
      "1/1 [==============================] - 0s 4ms/step - loss: nan\n",
      "Epoch 179/200\n",
      "1/1 [==============================] - 0s 2ms/step - loss: nan\n",
      "Epoch 180/200\n",
      "1/1 [==============================] - 0s 2ms/step - loss: nan\n",
      "Epoch 181/200\n",
      "1/1 [==============================] - 0s 2ms/step - loss: nan\n",
      "Epoch 182/200\n",
      "1/1 [==============================] - 0s 2ms/step - loss: nan\n",
      "Epoch 183/200\n",
      "1/1 [==============================] - 0s 997us/step - loss: nan\n",
      "Epoch 184/200\n",
      "1/1 [==============================] - 0s 2ms/step - loss: nan\n",
      "Epoch 185/200\n",
      "1/1 [==============================] - 0s 997us/step - loss: nan\n",
      "Epoch 186/200\n",
      "1/1 [==============================] - 0s 996us/step - loss: nan\n",
      "Epoch 187/200\n",
      "1/1 [==============================] - 0s 997us/step - loss: nan\n",
      "Epoch 188/200\n",
      "1/1 [==============================] - 0s 2ms/step - loss: nan\n",
      "Epoch 189/200\n",
      "1/1 [==============================] - 0s 998us/step - loss: nan\n",
      "Epoch 190/200\n",
      "1/1 [==============================] - 0s 998us/step - loss: nan\n",
      "Epoch 191/200\n",
      "1/1 [==============================] - 0s 998us/step - loss: nan\n",
      "Epoch 192/200\n",
      "1/1 [==============================] - 0s 995us/step - loss: nan\n",
      "Epoch 193/200\n",
      "1/1 [==============================] - 0s 998us/step - loss: nan\n",
      "Epoch 194/200\n",
      "1/1 [==============================] - 0s 2ms/step - loss: nan\n",
      "Epoch 195/200\n",
      "1/1 [==============================] - 0s 2ms/step - loss: nan\n",
      "Epoch 196/200\n",
      "1/1 [==============================] - 0s 3ms/step - loss: nan\n",
      "Epoch 197/200\n",
      "1/1 [==============================] - 0s 2ms/step - loss: nan\n",
      "Epoch 198/200\n",
      "1/1 [==============================] - 0s 998us/step - loss: nan\n",
      "Epoch 199/200\n",
      "1/1 [==============================] - 0s 2ms/step - loss: nan\n",
      "Epoch 200/200\n",
      "1/1 [==============================] - 0s 997us/step - loss: nan\n"
     ]
    },
    {
     "data": {
      "text/plain": [
       "<keras.callbacks.callbacks.History at 0x259a5607d08>"
      ]
     },
     "execution_count": 28,
     "metadata": {},
     "output_type": "execute_result"
    }
   ],
   "source": [
    "x = np.matrix([*range(100)])\n",
    "m.autoencoder.fit(x, x, shuffle=False, epochs=200, batch_size = 10 , verbose = 1) "
   ]
  },
  {
   "cell_type": "code",
   "execution_count": 29,
   "metadata": {},
   "outputs": [
    {
     "data": {
      "text/plain": [
       "array([[nan, nan, nan, nan, nan, nan, nan, nan, nan, nan, nan, nan, nan,\n",
       "        nan, nan, nan, nan, nan, nan, nan, nan, nan, nan, nan, nan, nan,\n",
       "        nan, nan, nan, nan, nan, nan, nan, nan, nan, nan, nan, nan, nan,\n",
       "        nan, nan, nan, nan, nan, nan, nan, nan, nan, nan, nan, nan, nan,\n",
       "        nan, nan, nan, nan, nan, nan, nan, nan, nan, nan, nan, nan, nan,\n",
       "        nan, nan, nan, nan, nan, nan, nan, nan, nan, nan, nan, nan, nan,\n",
       "        nan, nan, nan, nan, nan, nan, nan, nan, nan, nan, nan, nan, nan,\n",
       "        nan, nan, nan, nan, nan, nan, nan, nan, nan]], dtype=float32)"
      ]
     },
     "execution_count": 29,
     "metadata": {},
     "output_type": "execute_result"
    }
   ],
   "source": [
    "m.autoencoder.predict(x).round(1)"
   ]
  },
  {
   "cell_type": "code",
   "execution_count": null,
   "metadata": {},
   "outputs": [],
   "source": []
  },
  {
   "cell_type": "code",
   "execution_count": null,
   "metadata": {},
   "outputs": [],
   "source": []
  }
 ],
 "metadata": {
  "kernelspec": {
   "display_name": "Python 3",
   "language": "python",
   "name": "python3"
  },
  "language_info": {
   "codemirror_mode": {
    "name": "ipython",
    "version": 3
   },
   "file_extension": ".py",
   "mimetype": "text/x-python",
   "name": "python",
   "nbconvert_exporter": "python",
   "pygments_lexer": "ipython3",
   "version": "3.7.6"
  },
  "varInspector": {
   "cols": {
    "lenName": 16,
    "lenType": 16,
    "lenVar": 40
   },
   "kernels_config": {
    "python": {
     "delete_cmd_postfix": "",
     "delete_cmd_prefix": "del ",
     "library": "var_list.py",
     "varRefreshCmd": "print(var_dic_list())"
    },
    "r": {
     "delete_cmd_postfix": ") ",
     "delete_cmd_prefix": "rm(",
     "library": "var_list.r",
     "varRefreshCmd": "cat(var_dic_list()) "
    }
   },
   "position": {
    "height": "144.86px",
    "left": "1252px",
    "right": "20px",
    "top": "182px",
    "width": "350px"
   },
   "types_to_exclude": [
    "module",
    "function",
    "builtin_function_or_method",
    "instance",
    "_Feature"
   ],
   "window_display": true
  }
 },
 "nbformat": 4,
 "nbformat_minor": 2
}
