{
 "cells": [
  {
   "cell_type": "markdown",
   "metadata": {},
   "source": [
    "###  你们先试试写写然后就可以看看文章里讲怎么建造portfolio那一块了"
   ]
  },
  {
   "cell_type": "code",
   "execution_count": 69,
   "metadata": {},
   "outputs": [],
   "source": [
    "import numpy as np\n",
    "import pandas as pd\n",
    "import matplotlib.pyplot as plt\n",
    "\n",
    "import os #如果你没有用gpu做machine leaning就忽略这两条\n",
    "os.environ['CUDA_VISIBLE_DEVICES'] = '-1' #如果你没有用gpu就忽略这两条\n",
    "from keras.layers import Input, Dense\n",
    "from keras.models import Model\n",
    "from keras import regularizers\n",
    "from keras.models import load_model\n",
    "from sklearn import preprocessing "
   ]
  },
  {
   "cell_type": "code",
   "execution_count": 70,
   "metadata": {},
   "outputs": [],
   "source": [
    "df = pd.read_csv('C:/Users/Zackt/Documents/100 stock price 5 years.csv'  , index_col = 0)"
   ]
  },
  {
   "cell_type": "markdown",
   "metadata": {},
   "source": [
    "### Preprocessing data"
   ]
  },
  {
   "cell_type": "code",
   "execution_count": 71,
   "metadata": {},
   "outputs": [
    {
     "data": {
      "text/plain": [
       "(698, 100)"
      ]
     },
     "execution_count": 71,
     "metadata": {},
     "output_type": "execute_result"
    }
   ],
   "source": [
    "\n",
    "temp = df.iloc[:700,:].dropna()#  use near 2 years data\n",
    "temp_1 = temp.shift(1)\n",
    "\n",
    "net_change = (temp - temp_1).dropna(0) # calculate the net change\n",
    "pct_change = temp.pct_change().dropna(0)\n",
    "\n",
    "#test = preprocessing.normalize(df)\n",
    "test = pct_change # use percentage change\n",
    "test.shape"
   ]
  },
  {
   "cell_type": "markdown",
   "metadata": {},
   "source": [
    "### Construct data (这一块的activation，optimizer， loss， 还有 data preprocessing是我们要反复实验的）\n",
    "### 还有关于使用什么样的数据也是要调整测试的， 是net change， percentage change 还是last price，需不需要normalize 或者 standardize 等等\n",
    "### 我先用最常见的几个写了\n",
    "### '''先建个一层的'''， 可以试试deeper的层数，等交完796作业"
   ]
  },
  {
   "cell_type": "code",
   "execution_count": 68,
   "metadata": {
    "scrolled": false
   },
   "outputs": [
    {
     "data": {
      "text/plain": [
       "<keras.callbacks.callbacks.History at 0x1d37669d1c8>"
      ]
     },
     "execution_count": 68,
     "metadata": {},
     "output_type": "execute_result"
    }
   ],
   "source": [
    "\n",
    "encoding_dim = 30 #中间层，随便设，别大于input\n",
    "dim = test.shape[1]\n",
    "\n",
    "# 输入层\n",
    "input_stock = Input(shape=(dim,))\n",
    "#  中间encoding层\n",
    "encoded = Dense(encoding_dim, activation='relu')(input_stock)\n",
    "# 输出decoding层\n",
    "decoded = Dense(dim, activation='linear')(encoded)\n",
    "\n",
    "# initial model\n",
    "autoencoder = Model(input_stock, decoded)\n",
    "autoencoder.compile(optimizer='adam', loss='mean_squared_error')\n",
    "encoder = Model(input_stock, encoded)\n",
    "\n",
    "# training the model 要是想看过程把verbose 设为True\n",
    "autoencoder.fit(test, test, shuffle=False, epochs=200, batch_size = 10 , verbose = False) "
   ]
  },
  {
   "cell_type": "markdown",
   "metadata": {},
   "source": [
    "### Predict and pick the stocks"
   ]
  },
  {
   "cell_type": "code",
   "execution_count": 86,
   "metadata": {
    "scrolled": true
   },
   "outputs": [
    {
     "data": {
      "text/html": [
       "<div>\n",
       "<style scoped>\n",
       "    .dataframe tbody tr th:only-of-type {\n",
       "        vertical-align: middle;\n",
       "    }\n",
       "\n",
       "    .dataframe tbody tr th {\n",
       "        vertical-align: top;\n",
       "    }\n",
       "\n",
       "    .dataframe thead th {\n",
       "        text-align: right;\n",
       "    }\n",
       "</style>\n",
       "<table border=\"1\" class=\"dataframe\">\n",
       "  <thead>\n",
       "    <tr style=\"text-align: right;\">\n",
       "      <th></th>\n",
       "      <th>communal</th>\n",
       "      <th>index</th>\n",
       "    </tr>\n",
       "  </thead>\n",
       "  <tbody>\n",
       "    <tr>\n",
       "      <td>0</td>\n",
       "      <td>0.043302</td>\n",
       "      <td>CF</td>\n",
       "    </tr>\n",
       "    <tr>\n",
       "      <td>1</td>\n",
       "      <td>0.045291</td>\n",
       "      <td>LULU</td>\n",
       "    </tr>\n",
       "    <tr>\n",
       "      <td>2</td>\n",
       "      <td>0.046929</td>\n",
       "      <td>NFLX</td>\n",
       "    </tr>\n",
       "    <tr>\n",
       "      <td>3</td>\n",
       "      <td>0.048654</td>\n",
       "      <td>TSLA</td>\n",
       "    </tr>\n",
       "    <tr>\n",
       "      <td>4</td>\n",
       "      <td>0.051081</td>\n",
       "      <td>NVDA</td>\n",
       "    </tr>\n",
       "    <tr>\n",
       "      <td>...</td>\n",
       "      <td>...</td>\n",
       "      <td>...</td>\n",
       "    </tr>\n",
       "    <tr>\n",
       "      <td>95</td>\n",
       "      <td>0.238818</td>\n",
       "      <td>VRSN</td>\n",
       "    </tr>\n",
       "    <tr>\n",
       "      <td>96</td>\n",
       "      <td>0.240086</td>\n",
       "      <td>INTU</td>\n",
       "    </tr>\n",
       "    <tr>\n",
       "      <td>97</td>\n",
       "      <td>0.250026</td>\n",
       "      <td>ASML</td>\n",
       "    </tr>\n",
       "    <tr>\n",
       "      <td>98</td>\n",
       "      <td>0.255287</td>\n",
       "      <td>ROST</td>\n",
       "    </tr>\n",
       "    <tr>\n",
       "      <td>99</td>\n",
       "      <td>0.290820</td>\n",
       "      <td>HSIC</td>\n",
       "    </tr>\n",
       "  </tbody>\n",
       "</table>\n",
       "<p>100 rows × 2 columns</p>\n",
       "</div>"
      ],
      "text/plain": [
       "    communal index\n",
       "0   0.043302    CF\n",
       "1   0.045291  LULU\n",
       "2   0.046929  NFLX\n",
       "3   0.048654  TSLA\n",
       "4   0.051081  NVDA\n",
       "..       ...   ...\n",
       "95  0.238818  VRSN\n",
       "96  0.240086  INTU\n",
       "97  0.250026  ASML\n",
       "98  0.255287  ROST\n",
       "99  0.290820  HSIC\n",
       "\n",
       "[100 rows x 2 columns]"
      ]
     },
     "execution_count": 86,
     "metadata": {},
     "output_type": "execute_result"
    }
   ],
   "source": [
    "predict = autoencoder.predict(test) # predict 重新得到输出层\n",
    "# use 2 different norm to decide which stocks are market leader which are not\n",
    "communal_information = np.linalg.norm((test - predict),axis = 0) \n",
    "# ranking\n",
    "ranking = np.array(communal_information).argsort()\n",
    "ranks = pd.DataFrame({'communal' : communal_information[ranking] ,'index' : test.columns[ranking] })\n",
    "ranks"
   ]
  },
  {
   "cell_type": "markdown",
   "metadata": {},
   "source": [
    "### Let see what the best one looks like ( Pretty good, One of the best Market follower)"
   ]
  },
  {
   "cell_type": "code",
   "execution_count": 81,
   "metadata": {
    "scrolled": true
   },
   "outputs": [
    {
     "data": {
      "text/plain": [
       "<matplotlib.legend.Legend at 0x1d376ada148>"
      ]
     },
     "execution_count": 81,
     "metadata": {},
     "output_type": "execute_result"
    },
    {
     "data": {
      "image/png": "[encoded data removed]",
      "text/plain": [
       "<Figure size 432x288 with 1 Axes>"
      ]
     },
     "metadata": {
      "needs_background": "light"
     },
     "output_type": "display_data"
    }
   ],
   "source": [
    "stock_index = ranking[0]\n",
    "predict_path = [df.iloc[0,stock_index]]\n",
    "for i in range(1,test.shape[0]):\n",
    "    predict_path.append(predict_path[i-1] * (1+predict[i,stock_index]))\n",
    "\n",
    "plt.plot(np.array(temp.iloc[:,stock_index] ) , label = 'data')\n",
    "plt.plot(predict_path, label = 'auto')\n",
    "plt.xlabel('Date')\n",
    "plt.ylabel('Last Price')\n",
    "# plt.plot(df.iloc[0,stock_index] + np.cumsum(predict[:,stock_index]) , label = 'autoencoder')\n",
    "plt.legend()"
   ]
  },
  {
   "cell_type": "markdown",
   "metadata": {},
   "source": [
    "### Let see what the worst one looks like (could be good too) we need stock that does not follow the market\n",
    "##### the communal information totally cannot reproduce the path means\n",
    "##### The communal information is the most shared information that was saved during dimension reduction.\n",
    "##### Thus, the faliure of reproducing the path means the every other stocks in the market doest share too much information with this stocl"
   ]
  },
  {
   "cell_type": "code",
   "execution_count": 84,
   "metadata": {
    "scrolled": true
   },
   "outputs": [
    {
     "data": {
      "text/plain": [
       "<matplotlib.legend.Legend at 0x1d377c11388>"
      ]
     },
     "execution_count": 84,
     "metadata": {},
     "output_type": "execute_result"
    },
    {
     "data": {
      "image/png": "[encoded data removed]",
      "text/plain": [
       "<Figure size 432x288 with 1 Axes>"
      ]
     },
     "metadata": {
      "needs_background": "light"
     },
     "output_type": "display_data"
    }
   ],
   "source": [
    "stock_index = ranking[-1]\n",
    "predict_path = [df.iloc[0,stock_index]]\n",
    "for i in range(1,test.shape[0]):\n",
    "    predict_path.append(predict_path[i-1] * (1+predict[i,stock_index]))\n",
    "\n",
    "plt.plot(np.array(temp.iloc[:,stock_index] ) , label = 'data')\n",
    "plt.plot(predict_path, label = 'auto')\n",
    "plt.xlabel('Date')\n",
    "plt.ylabel('Last Price')\n",
    "# plt.plot(df.iloc[0,stock_index] + np.cumsum(predict[:,stock_index]) , label = 'autoencoder')\n",
    "plt.legend()"
   ]
  },
  {
   "cell_type": "markdown",
   "metadata": {},
   "source": [
    "### Pick 50(or 20 or 10 or ...) from this ranking list\n",
    "##### we want both market follower and no-market follower"
   ]
  },
  {
   "cell_type": "code",
   "execution_count": null,
   "metadata": {},
   "outputs": [],
   "source": []
  },
  {
   "cell_type": "code",
   "execution_count": null,
   "metadata": {},
   "outputs": [],
   "source": []
  },
  {
   "cell_type": "code",
   "execution_count": null,
   "metadata": {},
   "outputs": [],
   "source": []
  },
  {
   "cell_type": "code",
   "execution_count": null,
   "metadata": {},
   "outputs": [],
   "source": []
  },
  {
   "cell_type": "markdown",
   "metadata": {},
   "source": [
    "### 在改成class 不用看"
   ]
  },
  {
   "cell_type": "code",
   "execution_count": null,
   "metadata": {},
   "outputs": [],
   "source": [
    "class autoencoder:\n",
    "    def __init__(self,data , model = 'Nan', optimizer = 'adam', loss = 'mean_squared_error'):\n",
    "        self.data = data\n",
    "        self.optimizer = optimizer\n",
    "        self.loss = loss\n",
    "        if model == 'NaN':\n",
    "            self.construct_model()\n",
    "            \n",
    "    def construct_model(self):\n",
    "        encoding_dim = 50\n",
    "        dim = test.shape[1]\n",
    "\n",
    "\n",
    "        input_stock = Input(shape=(dim,))\n",
    "\n",
    "        encoded = Dense(encoding_dim, activation='relu')(input_stock)\n",
    "\n",
    "        decoded = Dense(dim, activation='linear')(encoded)\n",
    "\n",
    "\n",
    "        self.autoencoder = Model(input_stock, decoded)\n",
    "        self.autoencoder.compile(optimizer='adam', loss='mean_squared_error')\n",
    "        \n",
    "    def train(self):\n",
    "        self.autoencoder.fit(test, test, shuffle=False, epochs=200, batch_size = 10 , verbose = False) "
   ]
  },
  {
   "cell_type": "code",
   "execution_count": null,
   "metadata": {},
   "outputs": [],
   "source": []
  }
 ],
 "metadata": {
  "kernelspec": {
   "display_name": "Python 3",
   "language": "python",
   "name": "python3"
  },
  "language_info": {
   "codemirror_mode": {
    "name": "ipython",
    "version": 3
   },
   "file_extension": ".py",
   "mimetype": "text/x-python",
   "name": "python",
   "nbconvert_exporter": "python",
   "pygments_lexer": "ipython3",
   "version": "3.7.4"
  },
  "varInspector": {
   "cols": {
    "lenName": 16,
    "lenType": 16,
    "lenVar": 40
   },
   "kernels_config": {
    "python": {
     "delete_cmd_postfix": "",
     "delete_cmd_prefix": "del ",
     "library": "var_list.py",
     "varRefreshCmd": "print(var_dic_list())"
    },
    "r": {
     "delete_cmd_postfix": ") ",
     "delete_cmd_prefix": "rm(",
     "library": "var_list.r",
     "varRefreshCmd": "cat(var_dic_list()) "
    }
   },
   "types_to_exclude": [
    "module",
    "function",
    "builtin_function_or_method",
    "instance",
    "_Feature"
   ],
   "window_display": false
  }
 },
 "nbformat": 4,
 "nbformat_minor": 2
}
